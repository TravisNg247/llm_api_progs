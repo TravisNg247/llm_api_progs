{
 "cells": [
  {
   "cell_type": "markdown",
   "metadata": {},
   "source": [
    "# Clippy, the friendly literature review bot!"
   ]
  },
  {
   "cell_type": "markdown",
   "metadata": {},
   "source": [
    "## Download and import necessary packages, API key"
   ]
  },
  {
   "cell_type": "code",
   "execution_count": null,
   "metadata": {},
   "outputs": [],
   "source": [
    "# install PyPI\n",
    "#%pip install -U google-generativeai\n",
    "#%pip install PyPDF2\n",
    "#%pip install tika\n",
    "#%pip install ast\n",
    "\n",
    "# importing gemini api\n",
    "import google.generativeai as genai\n",
    "import os, glob\n",
    "import PyPDF2\n",
    "import re\n",
    "import pandas as pd\n",
    "import json\n",
    "import typing_extensions as typing\n",
    "from tika import parser\n",
    "import ast\n",
    "import datetime\n",
    "\n",
    "# input api key payload\n",
    "genai.configure(api_key = YOUR_API_KEY_HERE)"
   ]
  },
  {
   "cell_type": "markdown",
   "metadata": {},
   "source": [
    "## Instructions and prompt for Clippy and setting location of PDFs to read"
   ]
  },
  {
   "cell_type": "code",
   "execution_count": null,
   "metadata": {},
   "outputs": [],
   "source": [
    "# Prompt  of model\n",
    "model=genai.GenerativeModel(\n",
    "    model_name=\"gemini-1.5-flash\", \n",
    "    system_instruction=\"You are a research assistant AI named Clippy. Your job is to help the user look through research papers that will be provided to you.\\\n",
    "                        You are to evaluate whether this paper is relevant to a literature review on infants and explain why in the relevance section of the response.\\\n",
    "                        Date should be written in the form of DD-MM-YYYY\\\n",
    "                        You are to greet the user in a warm and friendly, customer service tone.\\\n",
    "                        Skip preamble and only return what is asked. If you are unsure\\\n",
    "                        Only respond if you are sure of the answer, if not, respond with I do not know\") # Change this to whatever you want your prompt to be\n",
    "\n",
    "\n",
    "class Results(typing.TypedDict): # Choose your output from the abstract that you want Clippy to pull out\n",
    "    citation: str\n",
    "    date_of_publication: str\n",
    "    participant_sample: str\n",
    "    purpose_of_study: str\n",
    "    findings: str\n",
    "    keywords: str\n",
    "    relevance: str\n",
    "\n",
    "# Changing directory to papers folder\n",
    "os.chdir(r'YOUR_FOLDER_HERE') # Change this to the directory of the folder containing your PDF files\n",
    "## test\n",
    "print(os.getcwd())"
   ]
  },
  {
   "cell_type": "markdown",
   "metadata": {},
   "source": [
    "## Running Clippy!\n",
    "### Output will be stored as xlsx file in PDFs folder"
   ]
  },
  {
   "cell_type": "code",
   "execution_count": null,
   "metadata": {},
   "outputs": [],
   "source": [
    "# file path\n",
    "file_path=r'C:\\Users\\greyk\\Documents\\Python\\Clippy research assistant\\Papers'\n",
    "\n",
    "# Create an empty list to append\n",
    "result=[]\n",
    "\n",
    "# Implementing the looped function into the Gemini API\n",
    "\n",
    "for file in os.listdir(file_path):\n",
    "    if file.endswith('.pdf'):\n",
    "        pdf_file=open(file,'rb')\n",
    "        read_pdf=PyPDF2.PdfReader(pdf_file)\n",
    "        for page_num in range(1):\n",
    "            page_text=read_pdf.pages[page_num].extract_text().lower()\n",
    "            page_summary=model.generate_content(page_text, \n",
    "                                                generation_config=genai.GenerationConfig(\n",
    "                                                    response_mime_type='application/json', response_schema=Results),) \n",
    "    result.append(pd.json_normalize(json.loads(page_summary.text)))\n",
    "appended_data=pd.concat(result)\n",
    "\n",
    "# Viewing the dataframe\n",
    "appended_data\n",
    "\n",
    "# Output to csv file\n",
    "appended_data.to_excel('literature_review.xlsx', index=False)"
   ]
  }
 ],
 "metadata": {
  "kernelspec": {
   "display_name": "base",
   "language": "python",
   "name": "python3"
  },
  "language_info": {
   "name": "python",
   "version": "3.12.7"
  }
 },
 "nbformat": 4,
 "nbformat_minor": 2
}
