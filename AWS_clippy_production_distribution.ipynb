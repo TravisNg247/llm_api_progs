{
 "cells": [
  {
   "cell_type": "markdown",
   "metadata": {},
   "source": [
    "# Clippy, the research assistant! \n",
    "#### Now on AWS!"
   ]
  },
  {
   "cell_type": "markdown",
   "metadata": {},
   "source": [
    "### Importing packages and setting client details"
   ]
  },
  {
   "cell_type": "code",
   "execution_count": 1,
   "metadata": {},
   "outputs": [],
   "source": [
    "# Importing packages\n",
    "import json\n",
    "import os\n",
    "import re\n",
    "import pandas as pd\n",
    "from anthropic import AnthropicBedrock\n",
    "import time\n",
    "from botocore.exceptions import ClientError\n",
    "from ratelimit import limits, sleep_and_retry\n",
    "import anthropic\n",
    "\n",
    "# Set environment variables\n",
    "os.environ['AWS_ACCESS_KEY']='AWS_ACCESS_KEY'\n",
    "os.environ['AWS_SECRET_KEY']='AWS_SECRET_KEY'\n",
    "os.environ['REGION_NAME']='REGION_NAME'\n",
    "\n",
    "AWS_ACCESS_KEY=os.getenv('AWS_ACCESS_KEY')\n",
    "AWS_SECRET_KEY=os.getenv('AWS_SECRET_KEY')\n",
    "REGION_NAME=os.getenv('REGION_NAME')"
   ]
  },
  {
   "cell_type": "markdown",
   "metadata": {},
   "source": [
    "### Unleashing Clippy to do his thing!"
   ]
  },
  {
   "cell_type": "code",
   "execution_count": 26,
   "metadata": {},
   "outputs": [],
   "source": [
    "# Changing directory to papers folder for mac\n",
    "os.chdir(\"FILE_PATH\")\n",
    "df = pd.read_csv('CSV_FILE_NAME')\n",
    "\n",
    "# Filling in blanks with NA text\n",
    "clean_df=df.fillna(value=('Missing'))\n",
    "\n",
    "# Create an empty list to append\n",
    "results=[]\n",
    "\n",
    "# Initiating client\n",
    "client = AnthropicBedrock(\n",
    "    aws_access_key=AWS_ACCESS_KEY,\n",
    "    aws_secret_key=AWS_SECRET_KEY,\n",
    "    aws_region=REGION_NAME,\n",
    ")\n",
    "\n",
    "# Abstract to feed in\n",
    "for index, row in clean_df.iterrows():\n",
    "  time.sleep(30) # setting a buffer to 30 seconds to reduce likelihood of a choke\n",
    "  abstract=row['Abstract']\n",
    "  response = client.messages.create(\n",
    "          model=\"anthropic.claude-3-haiku-20240307-v1:0\",\n",
    "          max_tokens=1000, \n",
    "          temperature=0.1,\n",
    "          system='''You are Clippy, an AI research assistant. \\\n",
    "                    Evaluate provided research paper abstracts \\\n",
    "                    for relevance to a literature review on Large \\\n",
    "                    Language Models in patient self-care. Respond \\\n",
    "                        in JSON format with these fields:\n",
    "                    {'relevance_yes_no': yes/no,\n",
    "                     'relevance': One-sentence explanation of relevance,\n",
    "                     'purpose_of_study': Brief description of research purpose}\\\n",
    "                    Be concise. If uncertain: 'relevance_yes_no': \"Review full text\", others: \"Insufficient information\"''',\n",
    "          messages=[{'role': 'user', 'content': abstract}]\n",
    "  ) \n",
    "  results.append(pd.json_normalize(json.loads(response.content[0].text)))\n",
    "# Appending to blank results list\n",
    "data_for_append=pd.concat(results)\n",
    "\n",
    "# Stick the columns together using concat\n",
    "lit_review=pd.concat([clean_df, data_for_append.reset_index(drop=True)], axis=1)\n",
    "\n",
    "# Output to csv file\n",
    "lit_review.to_excel('FILE_NAME', index=False)"
   ]
  },
  {
   "cell_type": "code",
   "execution_count": null,
   "metadata": {},
   "outputs": [],
   "source": []
  }
 ],
 "metadata": {
  "kernelspec": {
   "display_name": "base",
   "language": "python",
   "name": "python3"
  },
  "language_info": {
   "codemirror_mode": {
    "name": "ipython",
    "version": 3
   },
   "file_extension": ".py",
   "mimetype": "text/x-python",
   "name": "python",
   "nbconvert_exporter": "python",
   "pygments_lexer": "ipython3",
   "version": "3.12.7"
  }
 },
 "nbformat": 4,
 "nbformat_minor": 2
}
