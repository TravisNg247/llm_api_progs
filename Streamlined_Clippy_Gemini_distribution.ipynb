{
 "cells": [
  {
   "cell_type": "markdown",
   "metadata": {},
   "source": [
    "# Clippy on Google Gemini!\n",
    "### Mr Clippy will get it done!"
   ]
  },
  {
   "cell_type": "markdown",
   "metadata": {},
   "source": [
    "#### Installing necessary packages and directory"
   ]
  },
  {
   "cell_type": "code",
   "execution_count": 1,
   "metadata": {},
   "outputs": [],
   "source": [
    "# importing gemini api\n",
    "import google.generativeai as genai\n",
    "import os\n",
    "import pandas as pd\n",
    "import json\n",
    "import time\n",
    "\n",
    "# input api key payload\n",
    "genai.configure(api_key = \"YOUR API KEY HERE\")"
   ]
  },
  {
   "cell_type": "code",
   "execution_count": 3,
   "metadata": {},
   "outputs": [],
   "source": [
    "# Changing of working directory\n",
    "os.chdir(\"YOUR FILE PATH HERE\")"
   ]
  },
  {
   "cell_type": "markdown",
   "metadata": {},
   "source": [
    "#### Setting prompts for Gemini"
   ]
  },
  {
   "cell_type": "code",
   "execution_count": 4,
   "metadata": {},
   "outputs": [],
   "source": [
    "# Prompt  of model\n",
    "model=genai.GenerativeModel(\n",
    "    model_name=\"gemini-1.5-flash\", \n",
    "    system_instruction='''You are Clippy, an AI research assistant. \\\n",
    "                    Evaluate provided research paper abstracts \\\n",
    "                    for relevance to a literature review on Large \\\n",
    "                    Language Models in patient self-care. Respond \\\n",
    "                        in JSON format with these fields:\n",
    "                    {'relevance_yes_no': yes/no,\n",
    "                     'relevance': One-sentence explanation of relevance,\n",
    "                     'purpose_of_study': Brief description of research purpose}\\\n",
    "                    Be concise. If uncertain: 'relevance_yes_no': \"Review full text\", others: \"Insufficient information\"''')"
   ]
  },
  {
   "cell_type": "markdown",
   "metadata": {},
   "source": [
    "#### Unleash Clippy!"
   ]
  },
  {
   "cell_type": "code",
   "execution_count": null,
   "metadata": {},
   "outputs": [],
   "source": [
    "# File path\n",
    "df = pd.read_csv(\"YOUR CSV FILE\")\n",
    "df\n",
    "\n",
    "# Filling in blanks with NA text\n",
    "df=df.fillna(value=('Missing'))\n",
    "df\n",
    "\n",
    "# Create an empty list to append\n",
    "result=[]\n",
    "batch_size = 10\n",
    "\n",
    "for start_index in range(0, len(df), batch_size):\n",
    "    end_index = min(start_index + batch_size, len(df))\n",
    "    \n",
    "    print(f\"Processing rows {start_index} to {end_index-1}\")\n",
    "    \n",
    "    \n",
    "    for index, row in df.iloc[start_index:end_index].iterrows():\n",
    "        abstract = row['Abstract']\n",
    "        abstract_summary = model.generate_content(\n",
    "            abstract, \n",
    "            generation_config=genai.GenerationConfig(\n",
    "                response_mime_type='application/json'\n",
    "            )\n",
    "        )\n",
    "        result.append(pd.json_normalize(json.loads(abstract_summary.text)))\n",
    "\n",
    "    print(f\"Completed processing batch {start_index//batch_size + 1}\")\n",
    "    time.sleep(60) # to prevent hitting rate limit\n",
    "\n",
    "print(\"All batches processed.\")\n",
    "print(result)"
   ]
  },
  {
   "cell_type": "code",
   "execution_count": null,
   "metadata": {},
   "outputs": [],
   "source": [
    "# Stick the columns together using concat\n",
    "appended_data=pd.concat(result)\n",
    "lit_review=pd.concat([df, appended_data.reset_index(drop=True)], axis=1)\n",
    "lit_review\n",
    "\n",
    "# Output to csv file\n",
    "lit_review.to_excel('FILE_NAME.xlsx', index=False)"
   ]
  }
 ],
 "metadata": {
  "kernelspec": {
   "display_name": "base",
   "language": "python",
   "name": "python3"
  },
  "language_info": {
   "codemirror_mode": {
    "name": "ipython",
    "version": 3
   },
   "file_extension": ".py",
   "mimetype": "text/x-python",
   "name": "python",
   "nbconvert_exporter": "python",
   "pygments_lexer": "ipython3",
   "version": "3.12.7"
  }
 },
 "nbformat": 4,
 "nbformat_minor": 2
}
